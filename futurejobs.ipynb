{
  "nbformat": 4,
  "nbformat_minor": 0,
  "metadata": {
    "colab": {
      "provenance": [],
      "mount_file_id": "1jBin6z1DpTXt1S8ikRs8OzNpvyjAymAx",
      "authorship_tag": "ABX9TyPxYj24zw6UdfRluFHbk0OH",
      "include_colab_link": true
    },
    "kernelspec": {
      "name": "python3",
      "display_name": "Python 3"
    },
    "language_info": {
      "name": "python"
    },
    "accelerator": "GPU",
    "gpuClass": "standard"
  },
  "cells": [
    {
      "cell_type": "markdown",
      "metadata": {
        "id": "view-in-github",
        "colab_type": "text"
      },
      "source": [
        "<a href=\"https://colab.research.google.com/github/tnnkhang2211/AI/blob/main/futurejobs.ipynb\" target=\"_parent\"><img src=\"https://colab.research.google.com/assets/colab-badge.svg\" alt=\"Open In Colab\"/></a>"
      ]
    },
    {
      "cell_type": "code",
      "execution_count": 24,
      "metadata": {
        "id": "CMLpHzJJKWZ4"
      },
      "outputs": [],
      "source": [
        "# Import library\n",
        "import pandas as pd\n",
        "import numpy as np\n",
        "from os import listdir\n",
        "from numpy import asanyarray, save\n",
        "from keras.utils import load_img, img_to_array\n",
        "from numpy.core.multiarray import asarray\n",
        "from google.colab import drive\n",
        "from keras.utils import to_categorical\n",
        "from PIL import Image\n",
        "import matplotlib.pyplot as plt\n",
        "from sklearn.model_selection import train_test_split\n",
        "from keras.layers.attention.multi_head_attention import activation\n",
        "from keras.models import Sequential, Model\n",
        "from keras.layers import Dense, Dropout, Flatten, Conv2D, MaxPooling2D, normalization, LeakyReLU\n",
        "from keras.optimizers import Adam\n",
        "from keras.losses import categorical_crossentropy"
      ]
    },
    {
      "cell_type": "code",
      "source": [
        "folder='/content/drive/MyDrive/fingerprint/Fingerprint/'\n",
        "photos, labels = list(), list()\n",
        "for file in listdir(folder):\n",
        "  output = 0.0\n",
        "  if file.startswith('Baker'):\n",
        "    output = 1.0\n",
        "  if file.startswith('Blacksmith'):\n",
        "    output = 2.0\n",
        "  if file.startswith('Cashier'):\n",
        "    output = 3.0\n",
        "  if file.startswith('Clerk'):\n",
        "    output = 4.0 \n",
        "  if file.startswith('Doctor'):\n",
        "    output = 5.0\n",
        "  if file.startswith('Electrician'):\n",
        "    output = 6.0\n",
        "  if file.startswith('Farmer'):\n",
        "    output = 7.0    \n",
        "  if file.startswith('Teacher'):\n",
        "    output = 8.0   \n",
        "  if file.startswith('Woker'):\n",
        "    output = 9.0 \n",
        "  photo = load_img(folder+file, target_size = (60,60))\n",
        "  photo = img_to_array(photo)\n",
        "  photos.append(photo)\n",
        "  labels.append(output)\n",
        "photos = asarray(photos)\n",
        "labels = asarray(labels)\n",
        "print(photos.shape, labels.shape) "
      ],
      "metadata": {
        "colab": {
          "base_uri": "https://localhost:8080/"
        },
        "id": "IjnB13Gifzy6",
        "outputId": "9eb45a9a-9972-4729-ece8-eb3cdade9456"
      },
      "execution_count": 25,
      "outputs": [
        {
          "output_type": "stream",
          "name": "stdout",
          "text": [
            "(1000, 60, 60, 3) (1000,)\n"
          ]
        }
      ]
    },
    {
      "cell_type": "code",
      "source": [
        "save('/content/drive/MyDrive/money/fingerprint_photos.npy', photos)\n",
        "save('/content/drive/MyDrive/money/fingerprint_labels.npy', labels)"
      ],
      "metadata": {
        "id": "VXkCjYCIglJ4"
      },
      "execution_count": 26,
      "outputs": []
    },
    {
      "cell_type": "code",
      "source": [
        "photos = np.load('/content/drive/MyDrive/fingerprint/fingerprint_photos.npy')\n",
        "labels = np.load('/content/drive/MyDrive/fingerprint/fingerprint_labels.npy')"
      ],
      "metadata": {
        "id": "vmFtguUXg28Q"
      },
      "execution_count": 27,
      "outputs": []
    },
    {
      "cell_type": "code",
      "source": [
        "X_train, X_test, y_train, y_test = train_test_split(photos, labels, test_size=0.1, random_state=3)"
      ],
      "metadata": {
        "id": "o3Pcsbcvg-sR"
      },
      "execution_count": 28,
      "outputs": []
    },
    {
      "cell_type": "code",
      "source": [
        "X_train.shape"
      ],
      "metadata": {
        "colab": {
          "base_uri": "https://localhost:8080/"
        },
        "id": "K96Be2P8hCiQ",
        "outputId": "becdc907-22be-4475-99e9-1bde2843f6e4"
      },
      "execution_count": 29,
      "outputs": [
        {
          "output_type": "execute_result",
          "data": {
            "text/plain": [
              "(900, 60, 60, 3)"
            ]
          },
          "metadata": {},
          "execution_count": 29
        }
      ]
    },
    {
      "cell_type": "code",
      "source": [
        "y_train.shape"
      ],
      "metadata": {
        "colab": {
          "base_uri": "https://localhost:8080/"
        },
        "id": "ZpGylk8uhEaA",
        "outputId": "1d4c848f-0a3e-4538-c2b7-aef58eb5ae25"
      },
      "execution_count": 30,
      "outputs": [
        {
          "output_type": "execute_result",
          "data": {
            "text/plain": [
              "(900,)"
            ]
          },
          "metadata": {},
          "execution_count": 30
        }
      ]
    },
    {
      "cell_type": "code",
      "source": [
        "X_test.shape"
      ],
      "metadata": {
        "colab": {
          "base_uri": "https://localhost:8080/"
        },
        "id": "VkSIimU5hGHP",
        "outputId": "797b27b3-53ed-4bfb-ae94-9c8534c21cbf"
      },
      "execution_count": 31,
      "outputs": [
        {
          "output_type": "execute_result",
          "data": {
            "text/plain": [
              "(100, 60, 60, 3)"
            ]
          },
          "metadata": {},
          "execution_count": 31
        }
      ]
    },
    {
      "cell_type": "code",
      "source": [
        "y_test.shape"
      ],
      "metadata": {
        "colab": {
          "base_uri": "https://localhost:8080/"
        },
        "id": "GkmxPDt6hJEB",
        "outputId": "7111716e-e65c-48a9-e8d1-66333ffb2c37"
      },
      "execution_count": 32,
      "outputs": [
        {
          "output_type": "execute_result",
          "data": {
            "text/plain": [
              "(100,)"
            ]
          },
          "metadata": {},
          "execution_count": 32
        }
      ]
    },
    {
      "cell_type": "code",
      "source": [
        "X_train = X_train.astype('float32')/255\n",
        "y_train = to_categorical(y_train, 10) \n",
        "\n",
        "X_test = X_test.astype('float32')/255\n",
        "y_test = to_categorical(y_test, 10)"
      ],
      "metadata": {
        "id": "Ms-hZzFMhK8X"
      },
      "execution_count": 33,
      "outputs": []
    },
    {
      "cell_type": "code",
      "source": [
        "y_train.shape"
      ],
      "metadata": {
        "colab": {
          "base_uri": "https://localhost:8080/"
        },
        "id": "aACQlEGshR7P",
        "outputId": "ae6d10cc-7390-4c6f-f373-30b572d94078"
      },
      "execution_count": 34,
      "outputs": [
        {
          "output_type": "execute_result",
          "data": {
            "text/plain": [
              "(900, 10)"
            ]
          },
          "metadata": {},
          "execution_count": 34
        }
      ]
    },
    {
      "cell_type": "code",
      "source": [
        "y_test.shape"
      ],
      "metadata": {
        "colab": {
          "base_uri": "https://localhost:8080/"
        },
        "id": "Mx93OaQHhTnf",
        "outputId": "5998cb54-5645-4a78-ba0b-1b01f8744105"
      },
      "execution_count": 35,
      "outputs": [
        {
          "output_type": "execute_result",
          "data": {
            "text/plain": [
              "(100, 10)"
            ]
          },
          "metadata": {},
          "execution_count": 35
        }
      ]
    },
    {
      "cell_type": "code",
      "source": [
        "model = Sequential()\n",
        "model.add(Conv2D(32, kernel_size=(3, 3), activation='linear', input_shape=(60, 60, 3), padding='same'))\n",
        "model.add(LeakyReLU(alpha=0.1))\n",
        "model.add(MaxPooling2D((2, 2), padding='same'))\n",
        "\n",
        "model.add(Conv2D(64, (3, 3), activation='relu', padding='same'))\n",
        "model.add(LeakyReLU(alpha=0.1))\n",
        "model.add(MaxPooling2D((2, 2), padding='same'))\n",
        "\n",
        "model.add(Conv2D(128, (3, 3), activation='relu', padding='same'))\n",
        "model.add(LeakyReLU(alpha=0.1))\n",
        "model.add(MaxPooling2D((2, 2), padding='same'))\n",
        "\n",
        "model.add(Flatten())\n",
        "model.add(Dense(128, activation='linear'))\n",
        "model.add(LeakyReLU(alpha=0.1))\n",
        "model.add(Dense(10, activation='softmax'))"
      ],
      "metadata": {
        "id": "ASdCWeYOhUfo"
      },
      "execution_count": 36,
      "outputs": []
    },
    {
      "cell_type": "code",
      "source": [
        "model.summary()"
      ],
      "metadata": {
        "colab": {
          "base_uri": "https://localhost:8080/"
        },
        "id": "Qcy6Mu8ZhX2_",
        "outputId": "ce18d11c-8043-4fb5-8636-ce03ae637bef"
      },
      "execution_count": 37,
      "outputs": [
        {
          "output_type": "stream",
          "name": "stdout",
          "text": [
            "Model: \"sequential_2\"\n",
            "_________________________________________________________________\n",
            " Layer (type)                Output Shape              Param #   \n",
            "=================================================================\n",
            " conv2d_6 (Conv2D)           (None, 60, 60, 32)        896       \n",
            "                                                                 \n",
            " leaky_re_lu_8 (LeakyReLU)   (None, 60, 60, 32)        0         \n",
            "                                                                 \n",
            " max_pooling2d_6 (MaxPooling  (None, 30, 30, 32)       0         \n",
            " 2D)                                                             \n",
            "                                                                 \n",
            " conv2d_7 (Conv2D)           (None, 30, 30, 64)        18496     \n",
            "                                                                 \n",
            " leaky_re_lu_9 (LeakyReLU)   (None, 30, 30, 64)        0         \n",
            "                                                                 \n",
            " max_pooling2d_7 (MaxPooling  (None, 15, 15, 64)       0         \n",
            " 2D)                                                             \n",
            "                                                                 \n",
            " conv2d_8 (Conv2D)           (None, 15, 15, 128)       73856     \n",
            "                                                                 \n",
            " leaky_re_lu_10 (LeakyReLU)  (None, 15, 15, 128)       0         \n",
            "                                                                 \n",
            " max_pooling2d_8 (MaxPooling  (None, 8, 8, 128)        0         \n",
            " 2D)                                                             \n",
            "                                                                 \n",
            " flatten_2 (Flatten)         (None, 8192)              0         \n",
            "                                                                 \n",
            " dense_4 (Dense)             (None, 128)               1048704   \n",
            "                                                                 \n",
            " leaky_re_lu_11 (LeakyReLU)  (None, 128)               0         \n",
            "                                                                 \n",
            " dense_5 (Dense)             (None, 10)                1290      \n",
            "                                                                 \n",
            "=================================================================\n",
            "Total params: 1,143,242\n",
            "Trainable params: 1,143,242\n",
            "Non-trainable params: 0\n",
            "_________________________________________________________________\n"
          ]
        }
      ]
    },
    {
      "cell_type": "code",
      "source": [
        "model.compile(loss = categorical_crossentropy,\n",
        "              optimizer = Adam(),\n",
        "              metrics = ['accuracy'])\n",
        "train = model.fit(X_train, y_train, batch_size = 100, epochs = 100, verbose = 1)"
      ],
      "metadata": {
        "colab": {
          "base_uri": "https://localhost:8080/"
        },
        "id": "Y4xAXd9ehZGX",
        "outputId": "127c63ef-4380-4f3b-f300-dbaa018ab220"
      },
      "execution_count": 44,
      "outputs": [
        {
          "output_type": "stream",
          "name": "stdout",
          "text": [
            "Epoch 1/100\n",
            "9/9 [==============================] - 1s 23ms/step - loss: 0.2128 - accuracy: 0.9256\n",
            "Epoch 2/100\n",
            "9/9 [==============================] - 0s 18ms/step - loss: 0.0526 - accuracy: 0.9867\n",
            "Epoch 3/100\n",
            "9/9 [==============================] - 0s 17ms/step - loss: 0.0172 - accuracy: 1.0000\n",
            "Epoch 4/100\n",
            "9/9 [==============================] - 0s 16ms/step - loss: 0.0087 - accuracy: 1.0000\n",
            "Epoch 5/100\n",
            "9/9 [==============================] - 0s 16ms/step - loss: 0.0045 - accuracy: 1.0000\n",
            "Epoch 6/100\n",
            "9/9 [==============================] - 0s 16ms/step - loss: 0.0022 - accuracy: 1.0000\n",
            "Epoch 7/100\n",
            "9/9 [==============================] - 0s 16ms/step - loss: 0.0017 - accuracy: 1.0000\n",
            "Epoch 8/100\n",
            "9/9 [==============================] - 0s 16ms/step - loss: 0.0013 - accuracy: 1.0000\n",
            "Epoch 9/100\n",
            "9/9 [==============================] - 0s 16ms/step - loss: 0.0010 - accuracy: 1.0000\n",
            "Epoch 10/100\n",
            "9/9 [==============================] - 0s 15ms/step - loss: 8.8951e-04 - accuracy: 1.0000\n",
            "Epoch 11/100\n",
            "9/9 [==============================] - 0s 18ms/step - loss: 7.8276e-04 - accuracy: 1.0000\n",
            "Epoch 12/100\n",
            "9/9 [==============================] - 0s 16ms/step - loss: 6.9888e-04 - accuracy: 1.0000\n",
            "Epoch 13/100\n",
            "9/9 [==============================] - 0s 16ms/step - loss: 6.2540e-04 - accuracy: 1.0000\n",
            "Epoch 14/100\n",
            "9/9 [==============================] - 0s 15ms/step - loss: 5.6777e-04 - accuracy: 1.0000\n",
            "Epoch 15/100\n",
            "9/9 [==============================] - 0s 16ms/step - loss: 5.1371e-04 - accuracy: 1.0000\n",
            "Epoch 16/100\n",
            "9/9 [==============================] - 0s 16ms/step - loss: 4.7077e-04 - accuracy: 1.0000\n",
            "Epoch 17/100\n",
            "9/9 [==============================] - 0s 17ms/step - loss: 4.3397e-04 - accuracy: 1.0000\n",
            "Epoch 18/100\n",
            "9/9 [==============================] - 0s 17ms/step - loss: 4.0596e-04 - accuracy: 1.0000\n",
            "Epoch 19/100\n",
            "9/9 [==============================] - 0s 16ms/step - loss: 3.8216e-04 - accuracy: 1.0000\n",
            "Epoch 20/100\n",
            "9/9 [==============================] - 0s 16ms/step - loss: 3.6441e-04 - accuracy: 1.0000\n",
            "Epoch 21/100\n",
            "9/9 [==============================] - 0s 16ms/step - loss: 3.4005e-04 - accuracy: 1.0000\n",
            "Epoch 22/100\n",
            "9/9 [==============================] - 0s 15ms/step - loss: 3.2200e-04 - accuracy: 1.0000\n",
            "Epoch 23/100\n",
            "9/9 [==============================] - 0s 17ms/step - loss: 3.0904e-04 - accuracy: 1.0000\n",
            "Epoch 24/100\n",
            "9/9 [==============================] - 0s 15ms/step - loss: 2.9312e-04 - accuracy: 1.0000\n",
            "Epoch 25/100\n",
            "9/9 [==============================] - 0s 15ms/step - loss: 2.7972e-04 - accuracy: 1.0000\n",
            "Epoch 26/100\n",
            "9/9 [==============================] - 0s 15ms/step - loss: 2.6598e-04 - accuracy: 1.0000\n",
            "Epoch 27/100\n",
            "9/9 [==============================] - 0s 15ms/step - loss: 2.5281e-04 - accuracy: 1.0000\n",
            "Epoch 28/100\n",
            "9/9 [==============================] - 0s 14ms/step - loss: 2.4411e-04 - accuracy: 1.0000\n",
            "Epoch 29/100\n",
            "9/9 [==============================] - 0s 14ms/step - loss: 2.3468e-04 - accuracy: 1.0000\n",
            "Epoch 30/100\n",
            "9/9 [==============================] - 0s 15ms/step - loss: 2.2686e-04 - accuracy: 1.0000\n",
            "Epoch 31/100\n",
            "9/9 [==============================] - 0s 15ms/step - loss: 2.1911e-04 - accuracy: 1.0000\n",
            "Epoch 32/100\n",
            "9/9 [==============================] - 0s 15ms/step - loss: 2.0759e-04 - accuracy: 1.0000\n",
            "Epoch 33/100\n",
            "9/9 [==============================] - 0s 14ms/step - loss: 2.0284e-04 - accuracy: 1.0000\n",
            "Epoch 34/100\n",
            "9/9 [==============================] - 0s 16ms/step - loss: 1.9364e-04 - accuracy: 1.0000\n",
            "Epoch 35/100\n",
            "9/9 [==============================] - 0s 14ms/step - loss: 1.8802e-04 - accuracy: 1.0000\n",
            "Epoch 36/100\n",
            "9/9 [==============================] - 0s 14ms/step - loss: 1.8222e-04 - accuracy: 1.0000\n",
            "Epoch 37/100\n",
            "9/9 [==============================] - 0s 15ms/step - loss: 1.7646e-04 - accuracy: 1.0000\n",
            "Epoch 38/100\n",
            "9/9 [==============================] - 0s 15ms/step - loss: 1.7170e-04 - accuracy: 1.0000\n",
            "Epoch 39/100\n",
            "9/9 [==============================] - 0s 14ms/step - loss: 1.6507e-04 - accuracy: 1.0000\n",
            "Epoch 40/100\n",
            "9/9 [==============================] - 0s 14ms/step - loss: 1.6283e-04 - accuracy: 1.0000\n",
            "Epoch 41/100\n",
            "9/9 [==============================] - 0s 15ms/step - loss: 1.5616e-04 - accuracy: 1.0000\n",
            "Epoch 42/100\n",
            "9/9 [==============================] - 0s 15ms/step - loss: 1.5141e-04 - accuracy: 1.0000\n",
            "Epoch 43/100\n",
            "9/9 [==============================] - 0s 14ms/step - loss: 1.4750e-04 - accuracy: 1.0000\n",
            "Epoch 44/100\n",
            "9/9 [==============================] - 0s 14ms/step - loss: 1.4434e-04 - accuracy: 1.0000\n",
            "Epoch 45/100\n",
            "9/9 [==============================] - 0s 14ms/step - loss: 1.3959e-04 - accuracy: 1.0000\n",
            "Epoch 46/100\n",
            "9/9 [==============================] - 0s 15ms/step - loss: 1.3594e-04 - accuracy: 1.0000\n",
            "Epoch 47/100\n",
            "9/9 [==============================] - 0s 14ms/step - loss: 1.3055e-04 - accuracy: 1.0000\n",
            "Epoch 48/100\n",
            "9/9 [==============================] - 0s 15ms/step - loss: 1.2897e-04 - accuracy: 1.0000\n",
            "Epoch 49/100\n",
            "9/9 [==============================] - 0s 14ms/step - loss: 1.2504e-04 - accuracy: 1.0000\n",
            "Epoch 50/100\n",
            "9/9 [==============================] - 0s 14ms/step - loss: 1.2091e-04 - accuracy: 1.0000\n",
            "Epoch 51/100\n",
            "9/9 [==============================] - 0s 15ms/step - loss: 1.1914e-04 - accuracy: 1.0000\n",
            "Epoch 52/100\n",
            "9/9 [==============================] - 0s 14ms/step - loss: 1.1627e-04 - accuracy: 1.0000\n",
            "Epoch 53/100\n",
            "9/9 [==============================] - 0s 15ms/step - loss: 1.1350e-04 - accuracy: 1.0000\n",
            "Epoch 54/100\n",
            "9/9 [==============================] - 0s 15ms/step - loss: 1.1050e-04 - accuracy: 1.0000\n",
            "Epoch 55/100\n",
            "9/9 [==============================] - 0s 14ms/step - loss: 1.0858e-04 - accuracy: 1.0000\n",
            "Epoch 56/100\n",
            "9/9 [==============================] - 0s 17ms/step - loss: 1.0625e-04 - accuracy: 1.0000\n",
            "Epoch 57/100\n",
            "9/9 [==============================] - 0s 15ms/step - loss: 1.0369e-04 - accuracy: 1.0000\n",
            "Epoch 58/100\n",
            "9/9 [==============================] - 0s 14ms/step - loss: 1.0124e-04 - accuracy: 1.0000\n",
            "Epoch 59/100\n",
            "9/9 [==============================] - 0s 16ms/step - loss: 9.7988e-05 - accuracy: 1.0000\n",
            "Epoch 60/100\n",
            "9/9 [==============================] - 0s 15ms/step - loss: 9.5971e-05 - accuracy: 1.0000\n",
            "Epoch 61/100\n",
            "9/9 [==============================] - 0s 15ms/step - loss: 9.4243e-05 - accuracy: 1.0000\n",
            "Epoch 62/100\n",
            "9/9 [==============================] - 0s 15ms/step - loss: 9.2119e-05 - accuracy: 1.0000\n",
            "Epoch 63/100\n",
            "9/9 [==============================] - 0s 15ms/step - loss: 8.9323e-05 - accuracy: 1.0000\n",
            "Epoch 64/100\n",
            "9/9 [==============================] - 0s 15ms/step - loss: 8.7000e-05 - accuracy: 1.0000\n",
            "Epoch 65/100\n",
            "9/9 [==============================] - 0s 15ms/step - loss: 8.5302e-05 - accuracy: 1.0000\n",
            "Epoch 66/100\n",
            "9/9 [==============================] - 0s 15ms/step - loss: 8.2543e-05 - accuracy: 1.0000\n",
            "Epoch 67/100\n",
            "9/9 [==============================] - 0s 15ms/step - loss: 8.1919e-05 - accuracy: 1.0000\n",
            "Epoch 68/100\n",
            "9/9 [==============================] - 0s 16ms/step - loss: 7.9312e-05 - accuracy: 1.0000\n",
            "Epoch 69/100\n",
            "9/9 [==============================] - 0s 14ms/step - loss: 7.6873e-05 - accuracy: 1.0000\n",
            "Epoch 70/100\n",
            "9/9 [==============================] - 0s 15ms/step - loss: 7.5158e-05 - accuracy: 1.0000\n",
            "Epoch 71/100\n",
            "9/9 [==============================] - 0s 14ms/step - loss: 7.4524e-05 - accuracy: 1.0000\n",
            "Epoch 72/100\n",
            "9/9 [==============================] - 0s 15ms/step - loss: 7.3544e-05 - accuracy: 1.0000\n",
            "Epoch 73/100\n",
            "9/9 [==============================] - 0s 14ms/step - loss: 7.1560e-05 - accuracy: 1.0000\n",
            "Epoch 74/100\n",
            "9/9 [==============================] - 0s 14ms/step - loss: 7.0356e-05 - accuracy: 1.0000\n",
            "Epoch 75/100\n",
            "9/9 [==============================] - 0s 16ms/step - loss: 6.8902e-05 - accuracy: 1.0000\n",
            "Epoch 76/100\n",
            "9/9 [==============================] - 0s 14ms/step - loss: 6.7081e-05 - accuracy: 1.0000\n",
            "Epoch 77/100\n",
            "9/9 [==============================] - 0s 14ms/step - loss: 6.5638e-05 - accuracy: 1.0000\n",
            "Epoch 78/100\n",
            "9/9 [==============================] - 0s 14ms/step - loss: 6.4047e-05 - accuracy: 1.0000\n",
            "Epoch 79/100\n",
            "9/9 [==============================] - 0s 15ms/step - loss: 6.2167e-05 - accuracy: 1.0000\n",
            "Epoch 80/100\n",
            "9/9 [==============================] - 0s 14ms/step - loss: 6.1391e-05 - accuracy: 1.0000\n",
            "Epoch 81/100\n",
            "9/9 [==============================] - 0s 15ms/step - loss: 6.0223e-05 - accuracy: 1.0000\n",
            "Epoch 82/100\n",
            "9/9 [==============================] - 0s 14ms/step - loss: 5.9634e-05 - accuracy: 1.0000\n",
            "Epoch 83/100\n",
            "9/9 [==============================] - 0s 14ms/step - loss: 5.9908e-05 - accuracy: 1.0000\n",
            "Epoch 84/100\n",
            "9/9 [==============================] - 0s 14ms/step - loss: 5.7759e-05 - accuracy: 1.0000\n",
            "Epoch 85/100\n",
            "9/9 [==============================] - 0s 14ms/step - loss: 5.6221e-05 - accuracy: 1.0000\n",
            "Epoch 86/100\n",
            "9/9 [==============================] - 0s 14ms/step - loss: 5.5462e-05 - accuracy: 1.0000\n",
            "Epoch 87/100\n",
            "9/9 [==============================] - 0s 15ms/step - loss: 5.4010e-05 - accuracy: 1.0000\n",
            "Epoch 88/100\n",
            "9/9 [==============================] - 0s 14ms/step - loss: 5.3500e-05 - accuracy: 1.0000\n",
            "Epoch 89/100\n",
            "9/9 [==============================] - 0s 15ms/step - loss: 5.2423e-05 - accuracy: 1.0000\n",
            "Epoch 90/100\n",
            "9/9 [==============================] - 0s 15ms/step - loss: 5.1506e-05 - accuracy: 1.0000\n",
            "Epoch 91/100\n",
            "9/9 [==============================] - 0s 15ms/step - loss: 5.1250e-05 - accuracy: 1.0000\n",
            "Epoch 92/100\n",
            "9/9 [==============================] - 0s 15ms/step - loss: 5.0540e-05 - accuracy: 1.0000\n",
            "Epoch 93/100\n",
            "9/9 [==============================] - 0s 14ms/step - loss: 4.9343e-05 - accuracy: 1.0000\n",
            "Epoch 94/100\n",
            "9/9 [==============================] - 0s 15ms/step - loss: 4.8537e-05 - accuracy: 1.0000\n",
            "Epoch 95/100\n",
            "9/9 [==============================] - 0s 15ms/step - loss: 4.8198e-05 - accuracy: 1.0000\n",
            "Epoch 96/100\n",
            "9/9 [==============================] - 0s 14ms/step - loss: 4.6977e-05 - accuracy: 1.0000\n",
            "Epoch 97/100\n",
            "9/9 [==============================] - 0s 14ms/step - loss: 4.6453e-05 - accuracy: 1.0000\n",
            "Epoch 98/100\n",
            "9/9 [==============================] - 0s 16ms/step - loss: 4.5752e-05 - accuracy: 1.0000\n",
            "Epoch 99/100\n",
            "9/9 [==============================] - 0s 15ms/step - loss: 4.4874e-05 - accuracy: 1.0000\n",
            "Epoch 100/100\n",
            "9/9 [==============================] - 0s 16ms/step - loss: 4.4296e-05 - accuracy: 1.0000\n"
          ]
        }
      ]
    },
    {
      "cell_type": "code",
      "source": [
        "test = model.evaluate(X_test, y_test, verbose=0)\n",
        "print('Test loss: ', test[0])\n",
        "print('Test accuracy', test[1])\n",
        "accuracy=train.history['accuracy']\n",
        "loss=train.history['loss']\n",
        "epochs=range(len(accuracy))\n",
        "plt.plot(epochs, accuracy, 'bo', label='Training accuracy')\n",
        "plt.plot(epochs, loss, 'b', label='Training loss')\n",
        "plt.legend()\n",
        "plt.show()"
      ],
      "metadata": {
        "colab": {
          "base_uri": "https://localhost:8080/",
          "height": 465
        },
        "id": "KhttVu-DhxYA",
        "outputId": "6c479dbe-48b3-4871-f1ac-d7e63382b453"
      },
      "execution_count": 45,
      "outputs": [
        {
          "output_type": "stream",
          "name": "stdout",
          "text": [
            "Test loss:  6.784977912902832\n",
            "Test accuracy 0.2199999988079071\n"
          ]
        },
        {
          "output_type": "display_data",
          "data": {
            "text/plain": [
              "<Figure size 640x480 with 1 Axes>"
            ],
            "image/png": "[encoded data removed]"
          },
          "metadata": {}
        }
      ]
    },
    {
      "cell_type": "code",
      "source": [
        "img = X_test[92]\n",
        "plt.imshow(img)\n",
        "plt.show()\n",
        "print(y_test[95])"
      ],
      "metadata": {
        "colab": {
          "base_uri": "https://localhost:8080/",
          "height": 449
        },
        "id": "tb_qH1ECiDh7",
        "outputId": "1cc207b0-a7d8-49f8-b9ff-0496aa832d09"
      },
      "execution_count": 48,
      "outputs": [
        {
          "output_type": "display_data",
          "data": {
            "text/plain": [
              "<Figure size 640x480 with 1 Axes>"
            ],
            "image/png": "[encoded data removed]"
          },
          "metadata": {}
        },
        {
          "output_type": "stream",
          "name": "stdout",
          "text": [
            "[1. 0. 0. 0. 0. 0. 0. 0. 0. 0.]\n"
          ]
        }
      ]
    },
    {
      "cell_type": "code",
      "source": [
        "X_pred = X_test[99].reshape(1,60,60,3)\n",
        "X_pred=X_pred.astype('float32')/255\n",
        "np.argmax(model.predict(X_pred), axis=-1)"
      ],
      "metadata": {
        "colab": {
          "base_uri": "https://localhost:8080/"
        },
        "id": "ga2MfsukiPPf",
        "outputId": "35dd08ae-abdc-405e-9383-cca4224b3cb4"
      },
      "execution_count": 50,
      "outputs": [
        {
          "output_type": "stream",
          "name": "stdout",
          "text": [
            "1/1 [==============================] - 0s 206ms/step\n"
          ]
        },
        {
          "output_type": "execute_result",
          "data": {
            "text/plain": [
              "array([0])"
            ]
          },
          "metadata": {},
          "execution_count": 50
        }
      ]
    },
    {
      "cell_type": "code",
      "source": [
        "# #IMPORT A PICTURE FOR MODEL PREDICT\n",
        "url = '/content/drive/MyDrive/fingerprint/Fingerprint/Baker (41).jpg'\n",
        "img = plt.imread(url) \n",
        "plt.imshow(img)\n",
        "plt.show()"
      ],
      "metadata": {
        "colab": {
          "base_uri": "https://localhost:8080/",
          "height": 434
        },
        "id": "Q-viScihiVT8",
        "outputId": "b8e020ed-6e69-4d92-e501-329f625f331e"
      },
      "execution_count": 51,
      "outputs": [
        {
          "output_type": "display_data",
          "data": {
            "text/plain": [
              "<Figure size 640x480 with 1 Axes>"
            ],
            "image/png": "[encoded data removed]"
          },
          "metadata": {}
        }
      ]
    },
    {
      "cell_type": "code",
      "source": [
        "img = load_img(url, target_size = (60,60,3))\n",
        "plt.imshow(img)"
      ],
      "metadata": {
        "colab": {
          "base_uri": "https://localhost:8080/",
          "height": 449
        },
        "id": "cXH0KP9zib_x",
        "outputId": "ba72f02e-3bf1-4961-ea0f-05cdf4a64b81"
      },
      "execution_count": 52,
      "outputs": [
        {
          "output_type": "execute_result",
          "data": {
            "text/plain": [
              "<matplotlib.image.AxesImage at 0x7f18c8076490>"
            ]
          },
          "metadata": {},
          "execution_count": 52
        },
        {
          "output_type": "display_data",
          "data": {
            "text/plain": [
              "<Figure size 640x480 with 1 Axes>"
            ],
            "image/png": "[encoded data removed]"
          },
          "metadata": {}
        }
      ]
    },
    {
      "cell_type": "code",
      "source": [
        "img = img_to_array(img)\n",
        "img = img.reshape(1,60,60,3)\n",
        "img = img.astype('float32')\n",
        "img = img/255\n",
        "np.argmax(model.predict(img),axis=-1)"
      ],
      "metadata": {
        "colab": {
          "base_uri": "https://localhost:8080/"
        },
        "id": "iNSgKeCGie5S",
        "outputId": "c3beda07-275a-4010-b41d-9e8386a90641"
      },
      "execution_count": 53,
      "outputs": [
        {
          "output_type": "stream",
          "name": "stdout",
          "text": [
            "1/1 [==============================] - 0s 37ms/step\n"
          ]
        },
        {
          "output_type": "execute_result",
          "data": {
            "text/plain": [
              "array([1])"
            ]
          },
          "metadata": {},
          "execution_count": 53
        }
      ]
    },
    {
      "cell_type": "code",
      "source": [
        "model.save('/content/drive/MyDrive/foods/model_futurejobs_save.h5')"
      ],
      "metadata": {
        "id": "DTJk2ojJigbK"
      },
      "execution_count": 54,
      "outputs": []
    }
  ]
}