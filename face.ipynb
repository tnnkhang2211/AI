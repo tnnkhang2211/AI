{
  "nbformat": 4,
  "nbformat_minor": 0,
  "metadata": {
    "colab": {
      "provenance": [],
      "mount_file_id": "1Ia3kyEQA1cujgS8ojwrXQvmRRoW9Idwf",
      "authorship_tag": "ABX9TyOPv8dOT47eqlcSesF8V3IJ",
      "include_colab_link": true
    },
    "kernelspec": {
      "name": "python3",
      "display_name": "Python 3"
    },
    "language_info": {
      "name": "python"
    },
    "accelerator": "GPU",
    "gpuClass": "standard"
  },
  "cells": [
    {
      "cell_type": "markdown",
      "metadata": {
        "id": "view-in-github",
        "colab_type": "text"
      },
      "source": [
        "<a href=\"https://colab.research.google.com/github/tnnkhang2211/AI/blob/main/face.ipynb\" target=\"_parent\"><img src=\"https://colab.research.google.com/assets/colab-badge.svg\" alt=\"Open In Colab\"/></a>"
      ]
    },
    {
      "cell_type": "code",
      "execution_count": 31,
      "metadata": {
        "id": "v3kVBm8hi1Su"
      },
      "outputs": [],
      "source": [
        "# Import library\n",
        "import pandas as pd\n",
        "import numpy as np\n",
        "from os import listdir\n",
        "from numpy import asanyarray, save\n",
        "from keras.utils import load_img, img_to_array\n",
        "from numpy.core.multiarray import asarray\n",
        "from google.colab import drive\n",
        "from keras.utils import to_categorical\n",
        "from PIL import Image\n",
        "import matplotlib.pyplot as plt\n",
        "from sklearn.model_selection import train_test_split\n",
        "from keras.layers.attention.multi_head_attention import activation\n",
        "from keras.models import Sequential, Model\n",
        "from keras.layers import Dense, Dropout, Flatten, Conv2D, MaxPooling2D, normalization, LeakyReLU\n",
        "from keras.optimizers import Adam\n",
        "from keras.losses import categorical_crossentropy"
      ]
    },
    {
      "cell_type": "code",
      "source": [
        "folder='/content/drive/MyDrive/face/face/'\n",
        "photos, labels = list(), list()\n",
        "for file in listdir(folder):\n",
        "  output = 0.0\n",
        "  if file.startswith('Dat'):\n",
        "    output = 1.0\n",
        "  if file.startswith('Nha'):\n",
        "    output = 2.0\n",
        "  if file.startswith('Nhut'):\n",
        "    output = 3.0\n",
        "  if file.startswith('phat'):\n",
        "    output = 4.0 \n",
        "  if file.startswith('Tan'):\n",
        "    output = 5.0\n",
        "  if file.startswith('Thanh'):\n",
        "    output = 6.0\n",
        "  if file.startswith('Tuan'):\n",
        "    output = 7.0    \n",
        "  photo = load_img(folder+file, target_size = (60,60))\n",
        "  photo = img_to_array(photo)\n",
        "  photos.append(photo)\n",
        "  labels.append(output)\n",
        "photos = asarray(photos)\n",
        "labels = asarray(labels)\n",
        "print(photos.shape, labels.shape) "
      ],
      "metadata": {
        "colab": {
          "base_uri": "https://localhost:8080/"
        },
        "id": "Y-kgbtpkkjhB",
        "outputId": "947fe64a-383e-4ed0-a79b-9f236d9f0770"
      },
      "execution_count": 32,
      "outputs": [
        {
          "output_type": "stream",
          "name": "stdout",
          "text": [
            "(411, 60, 60, 3) (411,)\n"
          ]
        }
      ]
    },
    {
      "cell_type": "code",
      "source": [
        "# Save data \n",
        "save('/content/drive/MyDrive/face/face_photos.npy', photos)\n",
        "save('/content/drive/MyDrive/face/face_labels.npy', labels)"
      ],
      "metadata": {
        "id": "Z2eb8bVrk6d2"
      },
      "execution_count": 33,
      "outputs": []
    },
    {
      "cell_type": "code",
      "source": [
        "photos = np.load('/content/drive/MyDrive/face/face_photos.npy')\n",
        "labels = np.load('/content/drive/MyDrive/face/face_labels.npy')"
      ],
      "metadata": {
        "id": "isnOcD85lCDf"
      },
      "execution_count": 34,
      "outputs": []
    },
    {
      "cell_type": "code",
      "source": [
        "X_train, X_test, y_train, y_test = train_test_split(photos, labels, test_size=0.1, random_state=3)"
      ],
      "metadata": {
        "id": "tSCha9WjldkK"
      },
      "execution_count": 35,
      "outputs": []
    },
    {
      "cell_type": "code",
      "source": [
        "X_train.shape"
      ],
      "metadata": {
        "colab": {
          "base_uri": "https://localhost:8080/"
        },
        "id": "wZGbqvWUlfTR",
        "outputId": "19323faa-f0d2-48d4-b7de-2f71b1468062"
      },
      "execution_count": 36,
      "outputs": [
        {
          "output_type": "execute_result",
          "data": {
            "text/plain": [
              "(369, 60, 60, 3)"
            ]
          },
          "metadata": {},
          "execution_count": 36
        }
      ]
    },
    {
      "cell_type": "code",
      "source": [
        "y_train.shape"
      ],
      "metadata": {
        "colab": {
          "base_uri": "https://localhost:8080/"
        },
        "id": "IJb8n1jVlhB5",
        "outputId": "c137d613-cc6e-4eb6-e705-443e45a54a88"
      },
      "execution_count": 37,
      "outputs": [
        {
          "output_type": "execute_result",
          "data": {
            "text/plain": [
              "(369,)"
            ]
          },
          "metadata": {},
          "execution_count": 37
        }
      ]
    },
    {
      "cell_type": "code",
      "source": [
        "X_test.shape"
      ],
      "metadata": {
        "colab": {
          "base_uri": "https://localhost:8080/"
        },
        "id": "COaHc1buliei",
        "outputId": "9245ec6e-1e7c-421c-ce6a-af0ebd274f32"
      },
      "execution_count": 38,
      "outputs": [
        {
          "output_type": "execute_result",
          "data": {
            "text/plain": [
              "(42, 60, 60, 3)"
            ]
          },
          "metadata": {},
          "execution_count": 38
        }
      ]
    },
    {
      "cell_type": "code",
      "source": [
        "y_test.shape"
      ],
      "metadata": {
        "colab": {
          "base_uri": "https://localhost:8080/"
        },
        "id": "fJKCEzn6lj05",
        "outputId": "22d6a56a-c02b-4ead-99e6-ed3123155764"
      },
      "execution_count": 39,
      "outputs": [
        {
          "output_type": "execute_result",
          "data": {
            "text/plain": [
              "(42,)"
            ]
          },
          "metadata": {},
          "execution_count": 39
        }
      ]
    },
    {
      "cell_type": "code",
      "source": [
        "X_train = X_train.astype('float32')/255\n",
        "y_train = to_categorical(y_train, 8) \n",
        "\n",
        "X_test = X_test.astype('float32')/255\n",
        "y_test = to_categorical(y_test, 8)"
      ],
      "metadata": {
        "id": "s5REXcXJllXZ"
      },
      "execution_count": 40,
      "outputs": []
    },
    {
      "cell_type": "code",
      "source": [
        "y_train.shape"
      ],
      "metadata": {
        "colab": {
          "base_uri": "https://localhost:8080/"
        },
        "id": "z1xv-t28lmxx",
        "outputId": "3d6c7b50-324c-4009-c891-97e200a78509"
      },
      "execution_count": 41,
      "outputs": [
        {
          "output_type": "execute_result",
          "data": {
            "text/plain": [
              "(369, 8)"
            ]
          },
          "metadata": {},
          "execution_count": 41
        }
      ]
    },
    {
      "cell_type": "code",
      "source": [
        "y_test.shape"
      ],
      "metadata": {
        "colab": {
          "base_uri": "https://localhost:8080/"
        },
        "id": "IWDMtzHmloNi",
        "outputId": "79191b6a-d182-4137-ffae-51fb8e1e0e58"
      },
      "execution_count": 42,
      "outputs": [
        {
          "output_type": "execute_result",
          "data": {
            "text/plain": [
              "(42, 8)"
            ]
          },
          "metadata": {},
          "execution_count": 42
        }
      ]
    },
    {
      "cell_type": "code",
      "source": [
        "model = Sequential()\n",
        "model.add(Conv2D(32, kernel_size=(3, 3), activation='linear', input_shape=(60, 60, 3), padding='same'))\n",
        "model.add(LeakyReLU(alpha=0.1))\n",
        "model.add(MaxPooling2D((2, 2), padding='same'))\n",
        "\n",
        "model.add(Conv2D(64, (3, 3), activation='relu', padding='same'))\n",
        "model.add(LeakyReLU(alpha=0.1))\n",
        "model.add(MaxPooling2D((2, 2), padding='same'))\n",
        "\n",
        "model.add(Conv2D(128, (3, 3), activation='relu', padding='same'))\n",
        "model.add(LeakyReLU(alpha=0.1))\n",
        "model.add(MaxPooling2D((2, 2), padding='same'))\n",
        "\n",
        "model.add(Flatten())\n",
        "model.add(Dense(128, activation='linear'))\n",
        "model.add(LeakyReLU(alpha=0.1))\n",
        "model.add(Dense(8, activation='softmax'))"
      ],
      "metadata": {
        "id": "3YN0QvyilrCB"
      },
      "execution_count": 43,
      "outputs": []
    },
    {
      "cell_type": "code",
      "source": [
        "model.summary()"
      ],
      "metadata": {
        "colab": {
          "base_uri": "https://localhost:8080/"
        },
        "id": "SAsedCr6l945",
        "outputId": "8906d0c9-c468-4584-a88e-c6b0f0e9fcab"
      },
      "execution_count": 44,
      "outputs": [
        {
          "output_type": "stream",
          "name": "stdout",
          "text": [
            "Model: \"sequential_1\"\n",
            "_________________________________________________________________\n",
            " Layer (type)                Output Shape              Param #   \n",
            "=================================================================\n",
            " conv2d_3 (Conv2D)           (None, 60, 60, 32)        896       \n",
            "                                                                 \n",
            " leaky_re_lu_4 (LeakyReLU)   (None, 60, 60, 32)        0         \n",
            "                                                                 \n",
            " max_pooling2d_3 (MaxPooling  (None, 30, 30, 32)       0         \n",
            " 2D)                                                             \n",
            "                                                                 \n",
            " conv2d_4 (Conv2D)           (None, 30, 30, 64)        18496     \n",
            "                                                                 \n",
            " leaky_re_lu_5 (LeakyReLU)   (None, 30, 30, 64)        0         \n",
            "                                                                 \n",
            " max_pooling2d_4 (MaxPooling  (None, 15, 15, 64)       0         \n",
            " 2D)                                                             \n",
            "                                                                 \n",
            " conv2d_5 (Conv2D)           (None, 15, 15, 128)       73856     \n",
            "                                                                 \n",
            " leaky_re_lu_6 (LeakyReLU)   (None, 15, 15, 128)       0         \n",
            "                                                                 \n",
            " max_pooling2d_5 (MaxPooling  (None, 8, 8, 128)        0         \n",
            " 2D)                                                             \n",
            "                                                                 \n",
            " flatten_1 (Flatten)         (None, 8192)              0         \n",
            "                                                                 \n",
            " dense_2 (Dense)             (None, 128)               1048704   \n",
            "                                                                 \n",
            " leaky_re_lu_7 (LeakyReLU)   (None, 128)               0         \n",
            "                                                                 \n",
            " dense_3 (Dense)             (None, 8)                 1032      \n",
            "                                                                 \n",
            "=================================================================\n",
            "Total params: 1,142,984\n",
            "Trainable params: 1,142,984\n",
            "Non-trainable params: 0\n",
            "_________________________________________________________________\n"
          ]
        }
      ]
    },
    {
      "cell_type": "code",
      "source": [
        "model.compile(loss = categorical_crossentropy,\n",
        "              optimizer = Adam(),\n",
        "              metrics = ['accuracy'])\n",
        "train = model.fit(X_train, y_train, batch_size = 100, epochs = 45, verbose = 1)"
      ],
      "metadata": {
        "colab": {
          "base_uri": "https://localhost:8080/"
        },
        "id": "K_tf3Ysvl_sf",
        "outputId": "8eb07bb7-05b1-4e28-9f19-133f2f68dfc6"
      },
      "execution_count": 45,
      "outputs": [
        {
          "output_type": "stream",
          "name": "stdout",
          "text": [
            "Epoch 1/45\n",
            "4/4 [==============================] - 1s 131ms/step - loss: 2.0320 - accuracy: 0.1789\n",
            "Epoch 2/45\n",
            "4/4 [==============================] - 0s 14ms/step - loss: 1.6816 - accuracy: 0.6206\n",
            "Epoch 3/45\n",
            "4/4 [==============================] - 0s 14ms/step - loss: 1.0765 - accuracy: 0.8211\n",
            "Epoch 4/45\n",
            "4/4 [==============================] - 0s 16ms/step - loss: 0.4139 - accuracy: 0.9458\n",
            "Epoch 5/45\n",
            "4/4 [==============================] - 0s 15ms/step - loss: 0.1192 - accuracy: 0.9837\n",
            "Epoch 6/45\n",
            "4/4 [==============================] - 0s 16ms/step - loss: 0.0578 - accuracy: 0.9892\n",
            "Epoch 7/45\n",
            "4/4 [==============================] - 0s 16ms/step - loss: 0.0171 - accuracy: 0.9973\n",
            "Epoch 8/45\n",
            "4/4 [==============================] - 0s 13ms/step - loss: 0.0095 - accuracy: 0.9973\n",
            "Epoch 9/45\n",
            "4/4 [==============================] - 0s 14ms/step - loss: 0.0087 - accuracy: 1.0000\n",
            "Epoch 10/45\n",
            "4/4 [==============================] - 0s 14ms/step - loss: 0.0026 - accuracy: 1.0000\n",
            "Epoch 11/45\n",
            "4/4 [==============================] - 0s 14ms/step - loss: 0.0028 - accuracy: 1.0000\n",
            "Epoch 12/45\n",
            "4/4 [==============================] - 0s 14ms/step - loss: 9.3726e-04 - accuracy: 1.0000\n",
            "Epoch 13/45\n",
            "4/4 [==============================] - 0s 14ms/step - loss: 0.0015 - accuracy: 1.0000\n",
            "Epoch 14/45\n",
            "4/4 [==============================] - 0s 14ms/step - loss: 2.0197e-04 - accuracy: 1.0000\n",
            "Epoch 15/45\n",
            "4/4 [==============================] - 0s 14ms/step - loss: 0.0010 - accuracy: 1.0000\n",
            "Epoch 16/45\n",
            "4/4 [==============================] - 0s 14ms/step - loss: 2.9115e-04 - accuracy: 1.0000\n",
            "Epoch 17/45\n",
            "4/4 [==============================] - 0s 14ms/step - loss: 4.9738e-05 - accuracy: 1.0000\n",
            "Epoch 18/45\n",
            "4/4 [==============================] - 0s 14ms/step - loss: 8.4509e-05 - accuracy: 1.0000\n",
            "Epoch 19/45\n",
            "4/4 [==============================] - 0s 14ms/step - loss: 1.8745e-04 - accuracy: 1.0000\n",
            "Epoch 20/45\n",
            "4/4 [==============================] - 0s 14ms/step - loss: 9.8929e-05 - accuracy: 1.0000\n",
            "Epoch 21/45\n",
            "4/4 [==============================] - 0s 13ms/step - loss: 4.5910e-05 - accuracy: 1.0000\n",
            "Epoch 22/45\n",
            "4/4 [==============================] - 0s 13ms/step - loss: 3.8379e-05 - accuracy: 1.0000\n",
            "Epoch 23/45\n",
            "4/4 [==============================] - 0s 15ms/step - loss: 3.6847e-05 - accuracy: 1.0000\n",
            "Epoch 24/45\n",
            "4/4 [==============================] - 0s 15ms/step - loss: 3.7204e-05 - accuracy: 1.0000\n",
            "Epoch 25/45\n",
            "4/4 [==============================] - 0s 14ms/step - loss: 3.6558e-05 - accuracy: 1.0000\n",
            "Epoch 26/45\n",
            "4/4 [==============================] - 0s 14ms/step - loss: 3.4615e-05 - accuracy: 1.0000\n",
            "Epoch 27/45\n",
            "4/4 [==============================] - 0s 16ms/step - loss: 3.1307e-05 - accuracy: 1.0000\n",
            "Epoch 28/45\n",
            "4/4 [==============================] - 0s 15ms/step - loss: 2.8213e-05 - accuracy: 1.0000\n",
            "Epoch 29/45\n",
            "4/4 [==============================] - 0s 14ms/step - loss: 2.5667e-05 - accuracy: 1.0000\n",
            "Epoch 30/45\n",
            "4/4 [==============================] - 0s 14ms/step - loss: 2.3631e-05 - accuracy: 1.0000\n",
            "Epoch 31/45\n",
            "4/4 [==============================] - 0s 14ms/step - loss: 2.1975e-05 - accuracy: 1.0000\n",
            "Epoch 32/45\n",
            "4/4 [==============================] - 0s 13ms/step - loss: 2.0689e-05 - accuracy: 1.0000\n",
            "Epoch 33/45\n",
            "4/4 [==============================] - 0s 14ms/step - loss: 2.0069e-05 - accuracy: 1.0000\n",
            "Epoch 34/45\n",
            "4/4 [==============================] - 0s 14ms/step - loss: 1.9394e-05 - accuracy: 1.0000\n",
            "Epoch 35/45\n",
            "4/4 [==============================] - 0s 14ms/step - loss: 1.8891e-05 - accuracy: 1.0000\n",
            "Epoch 36/45\n",
            "4/4 [==============================] - 0s 14ms/step - loss: 1.8511e-05 - accuracy: 1.0000\n",
            "Epoch 37/45\n",
            "4/4 [==============================] - 0s 14ms/step - loss: 1.8083e-05 - accuracy: 1.0000\n",
            "Epoch 38/45\n",
            "4/4 [==============================] - 0s 14ms/step - loss: 1.7715e-05 - accuracy: 1.0000\n",
            "Epoch 39/45\n",
            "4/4 [==============================] - 0s 14ms/step - loss: 1.7404e-05 - accuracy: 1.0000\n",
            "Epoch 40/45\n",
            "4/4 [==============================] - 0s 13ms/step - loss: 1.7035e-05 - accuracy: 1.0000\n",
            "Epoch 41/45\n",
            "4/4 [==============================] - 0s 14ms/step - loss: 1.6737e-05 - accuracy: 1.0000\n",
            "Epoch 42/45\n",
            "4/4 [==============================] - 0s 14ms/step - loss: 1.6465e-05 - accuracy: 1.0000\n",
            "Epoch 43/45\n",
            "4/4 [==============================] - 0s 14ms/step - loss: 1.6241e-05 - accuracy: 1.0000\n",
            "Epoch 44/45\n",
            "4/4 [==============================] - 0s 16ms/step - loss: 1.5966e-05 - accuracy: 1.0000\n",
            "Epoch 45/45\n",
            "4/4 [==============================] - 0s 13ms/step - loss: 1.5773e-05 - accuracy: 1.0000\n"
          ]
        }
      ]
    },
    {
      "cell_type": "code",
      "source": [
        "test = model.evaluate(X_test, y_test, verbose=0)\n",
        "print('Test loss: ', test[0])\n",
        "print('Test accuracy', test[1])\n",
        "accuracy=train.history['accuracy']\n",
        "loss=train.history['loss']\n",
        "epochs=range(len(accuracy))\n",
        "plt.plot(epochs, accuracy, 'bo', label='Training accuracy')\n",
        "plt.plot(epochs, loss, 'b', label='Training loss')\n",
        "plt.legend()\n",
        "plt.show()"
      ],
      "metadata": {
        "colab": {
          "base_uri": "https://localhost:8080/",
          "height": 466
        },
        "id": "Lm1PTLzjmBmY",
        "outputId": "ffa50ad1-cc74-4d65-a173-90628e12fe5d"
      },
      "execution_count": 46,
      "outputs": [
        {
          "output_type": "stream",
          "name": "stdout",
          "text": [
            "Test loss:  0.006614639423787594\n",
            "Test accuracy 1.0\n"
          ]
        },
        {
          "output_type": "display_data",
          "data": {
            "text/plain": [
              "<Figure size 640x480 with 1 Axes>"
            ],
            "image/png": "[encoded data removed]"
          },
          "metadata": {}
        }
      ]
    },
    {
      "cell_type": "code",
      "source": [
        "img = X_test[12]\n",
        "plt.imshow(img)\n",
        "plt.show()\n",
        "print(y_test[12])"
      ],
      "metadata": {
        "colab": {
          "base_uri": "https://localhost:8080/",
          "height": 450
        },
        "id": "u_i2JAOTmMQw",
        "outputId": "b342d448-3d40-4d06-eb3f-9e13abc467eb"
      },
      "execution_count": 47,
      "outputs": [
        {
          "output_type": "display_data",
          "data": {
            "text/plain": [
              "<Figure size 640x480 with 1 Axes>"
            ],
            "image/png": "[encoded data removed]"
          },
          "metadata": {}
        },
        {
          "output_type": "stream",
          "name": "stdout",
          "text": [
            "[0. 1. 0. 0. 0. 0. 0. 0.]\n"
          ]
        }
      ]
    },
    {
      "cell_type": "code",
      "source": [
        "X_pred = X_test[12].reshape(1,60,60,3)\n",
        "X_pred=X_pred.astype('float32')/255\n",
        "np.argmax(model.predict(X_pred), axis=-1)"
      ],
      "metadata": {
        "colab": {
          "base_uri": "https://localhost:8080/"
        },
        "id": "6vpZ-hvwmkQ6",
        "outputId": "959f8bcc-7e93-494c-e2af-27371bfcd557"
      },
      "execution_count": 50,
      "outputs": [
        {
          "output_type": "stream",
          "name": "stdout",
          "text": [
            "1/1 [==============================] - 0s 62ms/step\n"
          ]
        },
        {
          "output_type": "execute_result",
          "data": {
            "text/plain": [
              "array([3])"
            ]
          },
          "metadata": {},
          "execution_count": 50
        }
      ]
    },
    {
      "cell_type": "code",
      "source": [
        "url = '/content/drive/MyDrive/face/face/Dat (24).jpg'\n",
        "img = plt.imread(url) \n",
        "plt.imshow(img)\n",
        "plt.show()"
      ],
      "metadata": {
        "colab": {
          "base_uri": "https://localhost:8080/",
          "height": 431
        },
        "id": "9kzWVCh2mt8h",
        "outputId": "0ce9600c-d05b-4644-acc0-06f3ae36a1f7"
      },
      "execution_count": 51,
      "outputs": [
        {
          "output_type": "display_data",
          "data": {
            "text/plain": [
              "<Figure size 640x480 with 1 Axes>"
            ],
            "image/png": "[encoded data removed]"
          },
          "metadata": {}
        }
      ]
    },
    {
      "cell_type": "code",
      "source": [
        "img = load_img(url, target_size = (60,60,3))\n",
        "plt.imshow(img)"
      ],
      "metadata": {
        "colab": {
          "base_uri": "https://localhost:8080/",
          "height": 450
        },
        "id": "yEfT2V5vm0FK",
        "outputId": "ce17b1f3-f15d-4212-ea3f-1b5838d89a1e"
      },
      "execution_count": 52,
      "outputs": [
        {
          "output_type": "execute_result",
          "data": {
            "text/plain": [
              "<matplotlib.image.AxesImage at 0x7f169ad71c40>"
            ]
          },
          "metadata": {},
          "execution_count": 52
        },
        {
          "output_type": "display_data",
          "data": {
            "text/plain": [
              "<Figure size 640x480 with 1 Axes>"
            ],
            "image/png": "[encoded data removed]"
          },
          "metadata": {}
        }
      ]
    },
    {
      "cell_type": "code",
      "source": [
        "img = img_to_array(img)\n",
        "img = img.reshape(1,60,60,3)\n",
        "img = img.astype('float32')\n",
        "img = img/255\n",
        "np.argmax(model.predict(img),axis=-1)"
      ],
      "metadata": {
        "colab": {
          "base_uri": "https://localhost:8080/"
        },
        "id": "KVEwCFYzm3uK",
        "outputId": "8c4a0902-4154-4e79-d34e-efc2ad052ecf"
      },
      "execution_count": 53,
      "outputs": [
        {
          "output_type": "stream",
          "name": "stdout",
          "text": [
            "1/1 [==============================] - 0s 28ms/step\n"
          ]
        },
        {
          "output_type": "execute_result",
          "data": {
            "text/plain": [
              "array([1])"
            ]
          },
          "metadata": {},
          "execution_count": 53
        }
      ]
    },
    {
      "cell_type": "code",
      "source": [
        "model.save('/content/drive/MyDrive/face/model_face_save.h5')"
      ],
      "metadata": {
        "id": "H1BU9jcam50q"
      },
      "execution_count": 54,
      "outputs": []
    }
  ]
}